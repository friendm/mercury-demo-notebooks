{
 "cells": [
  {
   "cell_type": "raw",
   "id": "142b2b65",
   "metadata": {},
   "source": [
    "---\n",
    "title: Buy 💸 vs build 🛠️\n",
    "description: Buy vs build calculator for Mercury commercial license\n",
    "show-code: False\n",
    "params:\n",
    "    license_type:\n",
    "        input: select\n",
    "        label: Please select license\n",
    "        value: Personal\n",
    "        choices: [Personal, Small Business, Enterprise]\n",
    "    employees:\n",
    "        input: slider\n",
    "        label: Number of employees required\n",
    "        value: 2\n",
    "        min: 1\n",
    "        max: 5\n",
    "    salary:\n",
    "        input: slider\n",
    "        label: Average employee salary\n",
    "        value: 90000\n",
    "        min: 10000\n",
    "        max: 300000\n",
    "    weeks_to_build:\n",
    "        input: slider\n",
    "        label: Weeks to build\n",
    "        value: 2\n",
    "        min: 1\n",
    "        max: 10\n",
    "    days_maintenance:\n",
    "        input: slider\n",
    "        label: Days per month fo maintenance\n",
    "        value: 1\n",
    "        min: 0\n",
    "        max: 5\n",
    "---"
   ]
  },
  {
   "cell_type": "code",
   "execution_count": 1,
   "id": "9357650e",
   "metadata": {},
   "outputs": [],
   "source": [
    "from bloxs import B\n",
    "from IPython.display import HTML"
   ]
  },
  {
   "cell_type": "code",
   "execution_count": 2,
   "id": "14b678f2",
   "metadata": {},
   "outputs": [],
   "source": [
    "license_type = \"Small Business\"\n",
    "employees = 1\n",
    "salary = 1000\n",
    "weeks_to_build = 1\n",
    "days_maintenance = 1"
   ]
  },
  {
   "cell_type": "code",
   "execution_count": 3,
   "id": "7e2fb612",
   "metadata": {},
   "outputs": [],
   "source": [
    "# Constants\n",
    "WORKING_DAYS_YEAR = 261.0\n",
    "LICENSE_COST = {\"Personal\": 199, \"Small Business\": 995, \"Enterprise\": 9500}"
   ]
  },
  {
   "cell_type": "code",
   "execution_count": 4,
   "id": "4e608bc3",
   "metadata": {},
   "outputs": [],
   "source": [
    "a = B([\n",
    "    B(f\"${LICENSE_COST[license_type]}\", title=\"License cost\"),\n",
    "    B(\"\", title=license_type),\n",
    "    B(\"💸 🛠️\", \"Buy vs build\")\n",
    "])"
   ]
  },
  {
   "cell_type": "code",
   "execution_count": 5,
   "id": "938db65e",
   "metadata": {},
   "outputs": [
    {
     "data": {
      "text/html": [
       "<div style=\"display: flex; background: #fff\">\n",
       "<div style=\"text-align: center; width: 34%; border: 1px solid #e5e5e5; margin: 10px; padding-top: 40px; padding-bottom: 40px; background: white; border-radius:5px\">\n",
       "  <span style=\"font-size: 4em; color: #5a5a5a; font-family: monospace; \">$995</span>\n",
       "  \n",
       "  <span style=\"font-size: 2em; color: gray; display: block; padding-top: 20px; font-family: monospace;\">License cost</span>\n",
       "  \n",
       "  \n",
       "</div>\n",
       "\n",
       "  \n",
       "  \n",
       "<div style=\"text-align: center; width: 34%; border: 1px solid #e5e5e5; margin: 10px; padding-top: 40px; padding-bottom: 40px; background: white; border-radius:5px\">\n",
       "  <span style=\"font-size: 4em; color: #5a5a5a; font-family: monospace; \"></span>\n",
       "  \n",
       "  <span style=\"font-size: 2em; color: gray; display: block; padding-top: 20px; font-family: monospace;\">Small Business</span>\n",
       "  \n",
       "  \n",
       "</div>\n",
       "\n",
       "  \n",
       "  \n",
       "<div style=\"text-align: center; width: 34%; border: 1px solid #e5e5e5; margin: 10px; padding-top: 40px; padding-bottom: 40px; background: white; border-radius:5px\">\n",
       "  <span style=\"font-size: 4em; color: #5a5a5a; font-family: monospace; \">💸 🛠️</span>\n",
       "  \n",
       "  <span style=\"font-size: 2em; color: gray; display: block; padding-top: 20px; font-family: monospace;\">Buy vs build</span>\n",
       "  \n",
       "  \n",
       "</div>\n",
       "\n",
       "  \n",
       "  </div>"
      ],
      "text/plain": [
       "<bloxs.bloxs.B at 0x7f45f4697130>"
      ]
     },
     "execution_count": 5,
     "metadata": {},
     "output_type": "execute_result"
    }
   ],
   "source": [
    "a"
   ]
  },
  {
   "cell_type": "code",
   "execution_count": 6,
   "id": "49ae2f80",
   "metadata": {},
   "outputs": [
    {
     "data": {
      "text/html": [
       "<div style=\"display: flex; background: #fff\">\n",
       "<div style=\"text-align: center; width: 34%; border: 1px solid #e5e5e5; margin: 10px; padding-top: 40px; padding-bottom: 40px; background: white; border-radius:5px\">\n",
       "  <span style=\"font-size: 4em; color: #5a5a5a; font-family: monospace; \">$995</span>\n",
       "  \n",
       "  <span style=\"font-size: 2em; color: gray; display: block; padding-top: 20px; font-family: monospace;\">License cost</span>\n",
       "  \n",
       "  \n",
       "</div>\n",
       "\n",
       "  \n",
       "  \n",
       "<div style=\"text-align: center; width: 34%; border: 1px solid #e5e5e5; margin: 10px; padding-top: 40px; padding-bottom: 40px; background: white; border-radius:5px\">\n",
       "  <span style=\"font-size: 4em; color: #5a5a5a; font-family: monospace; \"></span>\n",
       "  \n",
       "  <span style=\"font-size: 2em; color: gray; display: block; padding-top: 20px; font-family: monospace;\">Small Business</span>\n",
       "  \n",
       "  \n",
       "</div>\n",
       "\n",
       "  \n",
       "  \n",
       "<div style=\"text-align: center; width: 34%; border: 1px solid #e5e5e5; margin: 10px; padding-top: 40px; padding-bottom: 40px; background: white; border-radius:5px\">\n",
       "  <span style=\"font-size: 4em; color: #5a5a5a; font-family: monospace; \">💸 🛠️</span>\n",
       "  \n",
       "  <span style=\"font-size: 2em; color: gray; display: block; padding-top: 20px; font-family: monospace;\">Buy vs build</span>\n",
       "  \n",
       "  \n",
       "</div>\n",
       "\n",
       "  \n",
       "  </div>"
      ],
      "text/plain": [
       "<IPython.core.display.HTML object>"
      ]
     },
     "execution_count": 6,
     "metadata": {},
     "output_type": "execute_result"
    }
   ],
   "source": [
    "HTML(a._repr_html_())"
   ]
  },
  {
   "cell_type": "code",
   "execution_count": null,
   "id": "a37baa0a",
   "metadata": {},
   "outputs": [],
   "source": []
  },
  {
   "cell_type": "code",
   "execution_count": 7,
   "id": "4b6eec66",
   "metadata": {},
   "outputs": [
    {
     "data": {
      "text/plain": [
       "19.157088122605366"
      ]
     },
     "execution_count": 7,
     "metadata": {},
     "output_type": "execute_result"
    }
   ],
   "source": [
    "cost_to_build = weeks_to_build * 5 * employees * salary / WORKING_DAYS_YEAR\n",
    "cost_to_build"
   ]
  },
  {
   "cell_type": "code",
   "execution_count": 8,
   "id": "268729fe",
   "metadata": {},
   "outputs": [
    {
     "data": {
      "text/plain": [
       "45.97701149425287"
      ]
     },
     "execution_count": 8,
     "metadata": {},
     "output_type": "execute_result"
    }
   ],
   "source": [
    "annual_maintenance = 12 * days_maintenance * salary / WORKING_DAYS_YEAR\n",
    "annual_maintenance"
   ]
  },
  {
   "cell_type": "code",
   "execution_count": 9,
   "id": "cdf6f3b2",
   "metadata": {},
   "outputs": [
    {
     "data": {
      "text/plain": [
       "929.8659003831417"
      ]
     },
     "execution_count": 9,
     "metadata": {},
     "output_type": "execute_result"
    }
   ],
   "source": [
    "saved_annually = LICENSE_COST[license_type] - (cost_to_build + annual_maintenance)\n",
    "saved_annually"
   ]
  },
  {
   "cell_type": "code",
   "execution_count": 10,
   "id": "8dcb0c00",
   "metadata": {},
   "outputs": [
    {
     "data": {
      "text/html": [
       "<div style=\"display: flex; background: #fff\">\n",
       "<div style=\"text-align: center; width: 34%; border: 1px solid #e5e5e5; margin: 10px; padding-top: 40px; padding-bottom: 40px; background: white; border-radius:5px\">\n",
       "  <span style=\"font-size: 4em; color: #5a5a5a; font-family: monospace; \">$19</span>\n",
       "  \n",
       "  <span style=\"font-size: 2em; color: gray; display: block; padding-top: 20px; font-family: monospace;\">Cost to build</span>\n",
       "  \n",
       "  \n",
       "</div>\n",
       "\n",
       "  \n",
       "  \n",
       "<div style=\"text-align: center; width: 34%; border: 1px solid #e5e5e5; margin: 10px; padding-top: 40px; padding-bottom: 40px; background: white; border-radius:5px\">\n",
       "  <span style=\"font-size: 4em; color: #5a5a5a; font-family: monospace; \">$46</span>\n",
       "  \n",
       "  <span style=\"font-size: 2em; color: gray; display: block; padding-top: 20px; font-family: monospace;\">Annual Maintenance</span>\n",
       "  \n",
       "  \n",
       "</div>\n",
       "\n",
       "  \n",
       "  \n",
       "<div style=\"text-align: center; width: 34%; border: 1px solid #e5e5e5; margin: 10px; padding-top: 40px; padding-bottom: 40px; background: white; border-radius:5px\">\n",
       "  <span style=\"font-size: 4em; color: #5a5a5a; font-family: monospace; \">$930</span>\n",
       "  \n",
       "  <span style=\"font-size: 2em; color: gray; display: block; padding-top: 20px; font-family: monospace;\">Saved annually</span>\n",
       "  \n",
       "  \n",
       "</div>\n",
       "\n",
       "  \n",
       "  </div>"
      ],
      "text/plain": [
       "<bloxs.bloxs.B at 0x7f45f46aa880>"
      ]
     },
     "execution_count": 10,
     "metadata": {},
     "output_type": "execute_result"
    }
   ],
   "source": [
    "B([\n",
    "    B(f\"${round(cost_to_build)}\", title=\"Cost to build\"),\n",
    "    B(f\"${round(annual_maintenance)}\", title=\"Annual Maintenance\"),\n",
    "    B(f\"${round(saved_annually)}\", title=\"Saved annually\"),\n",
    "    \n",
    "])"
   ]
  },
  {
   "cell_type": "code",
   "execution_count": null,
   "id": "79a1fa06",
   "metadata": {},
   "outputs": [],
   "source": []
  },
  {
   "cell_type": "code",
   "execution_count": null,
   "id": "84337f0b",
   "metadata": {},
   "outputs": [],
   "source": []
  }
 ],
 "metadata": {
  "kernelspec": {
   "display_name": "demo_venv",
   "language": "python",
   "name": "demo_venv"
  },
  "language_info": {
   "codemirror_mode": {
    "name": "ipython",
    "version": 3
   },
   "file_extension": ".py",
   "mimetype": "text/x-python",
   "name": "python",
   "nbconvert_exporter": "python",
   "pygments_lexer": "ipython3",
   "version": "3.8.10"
  }
 },
 "nbformat": 4,
 "nbformat_minor": 5
}
