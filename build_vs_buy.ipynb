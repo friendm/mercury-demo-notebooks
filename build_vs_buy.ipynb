{
 "cells": [
  {
   "cell_type": "raw",
   "id": "142b2b65",
   "metadata": {},
   "source": [
    "---\n",
    "title: Buy 💸 vs build 🛠️\n",
    "description: Buy vs build calculator for Mercury commercial license\n",
    "show-code: False\n",
    "params:\n",
    "    license_type:\n",
    "        input: select\n",
    "        label: Please select license\n",
    "        value: Personal\n",
    "        choices: [Personal, Small Business, Enterprise]\n",
    "    employees:\n",
    "        input: slider\n",
    "        label: Number of employees required\n",
    "        value: 2\n",
    "        min: 1\n",
    "        max: 5\n",
    "    salary:\n",
    "        input: slider\n",
    "        label: Average employee salary\n",
    "        value: 90000\n",
    "        min: 10000\n",
    "        max: 300000\n",
    "    weeks_to_build:\n",
    "        input: slider\n",
    "        label: Weeks to build\n",
    "        value: 2\n",
    "        min: 1\n",
    "        max: 10\n",
    "    days_maintenance:\n",
    "        input: slider\n",
    "        label: Days per month fo maintenance\n",
    "        value: 1\n",
    "        min: 0\n",
    "        max: 5\n",
    "---"
   ]
  },
  {
   "cell_type": "code",
   "execution_count": 26,
   "id": "14b678f2",
   "metadata": {},
   "outputs": [],
   "source": [
    "license_type = \"Personal\"\n",
    "employees = 1\n",
    "salary = 1000\n",
    "weeks_to_build = 1\n",
    "days_maintenance = 1"
   ]
  },
  {
   "cell_type": "code",
   "execution_count": 27,
   "id": "7e2fb612",
   "metadata": {},
   "outputs": [],
   "source": [
    "# Constants\n",
    "WORKING_DAYS_YEAR = 261.0\n",
    "LICENSE_COST = {\"Personal\": 199, \"Small Business\": 995, \"Enterprise\": 9500}"
   ]
  },
  {
   "cell_type": "code",
   "execution_count": null,
   "id": "4e608bc3",
   "metadata": {},
   "outputs": [],
   "source": []
  },
  {
   "cell_type": "code",
   "execution_count": 28,
   "id": "4b6eec66",
   "metadata": {},
   "outputs": [
    {
     "data": {
      "text/plain": [
       "19.157088122605366"
      ]
     },
     "execution_count": 28,
     "metadata": {},
     "output_type": "execute_result"
    }
   ],
   "source": [
    "cost_to_build = weeks_to_build * 5 * employees * salary / WORKING_DAYS_YEAR\n",
    "cost_to_build"
   ]
  },
  {
   "cell_type": "code",
   "execution_count": 33,
   "id": "268729fe",
   "metadata": {},
   "outputs": [
    {
     "data": {
      "text/plain": [
       "45.97701149425287"
      ]
     },
     "execution_count": 33,
     "metadata": {},
     "output_type": "execute_result"
    }
   ],
   "source": [
    "annual_maintenance = 12 * days_maintenance * salary / WORKING_DAYS_YEAR\n",
    "annual_maintenance"
   ]
  },
  {
   "cell_type": "code",
   "execution_count": 34,
   "id": "cdf6f3b2",
   "metadata": {},
   "outputs": [
    {
     "data": {
      "text/plain": [
       "133.86590038314176"
      ]
     },
     "execution_count": 34,
     "metadata": {},
     "output_type": "execute_result"
    }
   ],
   "source": [
    "saved_annually = LICENSE_COST[license_type] - (cost_to_build + annual_maintenance)\n",
    "saved_annually"
   ]
  },
  {
   "cell_type": "code",
   "execution_count": null,
   "id": "8dcb0c00",
   "metadata": {},
   "outputs": [],
   "source": []
  }
 ],
 "metadata": {
  "kernelspec": {
   "display_name": "demo_venv",
   "language": "python",
   "name": "demo_venv"
  },
  "language_info": {
   "codemirror_mode": {
    "name": "ipython",
    "version": 3
   },
   "file_extension": ".py",
   "mimetype": "text/x-python",
   "name": "python",
   "nbconvert_exporter": "python",
   "pygments_lexer": "ipython3",
   "version": "3.8.10"
  }
 },
 "nbformat": 4,
 "nbformat_minor": 5
}
