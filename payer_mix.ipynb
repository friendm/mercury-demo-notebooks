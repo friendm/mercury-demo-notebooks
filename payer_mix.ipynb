{
 "cells": [
  {
   "cell_type": "raw",
   "metadata": {},
   "source": [
    "---\n",
    "title: Payer Mix Matters\n",
    "author: Mike Friend\n",
    "show-code: False\n",
    "description: A simple tool to show how payer mix can make or break a hospital\n",
    "params:\n",
    " Self_Pay:\n",
    "        input: slider\n",
    "        label: Self-Pay\n",
    "        value: 5\n",
    "        min: 0\n",
    "        max: 10\n",
    " Medicaid:\n",
    "        input: slider\n",
    "        label: Medicaid\n",
    "        value: 5\n",
    "        min: 0\n",
    "        max: 10\n",
    " Medicare:\n",
    "        input: slider\n",
    "        label: Medicare\n",
    "        value: 5\n",
    "        min: 0\n",
    "        max: 10\n",
    " Private:\n",
    "        input: slider\n",
    "        label: Private\n",
    "        value: 5\n",
    "        min: 0\n",
    "        max: 10\n",
    " cost_of_coffee:\n",
    "        input: numeric\n",
    "        label: The price it costs you to serve a cup of coffee\n",
    "        value: 1.1\n",
    "        min: .1\n",
    "        max: 1.9\n",
    "        step: 0.1\n",
    "---"
   ]
  },
  {
   "cell_type": "markdown",
   "metadata": {},
   "source": [
    "# Rural Hospitals are in trouble and Payer Mix is at least partially to blame:\n",
    "\n",
    "Since 2005, a rural hospital closes in America every 30 days on average  according to UNC’s SHEPS center program on Rural Hospital Closures. This trend is only accelerating. In 2020 according to Becker’s  the rate of closure was every 18 days.  This means more and more Americans, a fifth of which live in rural America, have to go farther to receive inpatient hospital-level care. In addition, in many communities’ hospitals are not only a source of health but also a major employer. The question of why these hospitals close is a complex issue but payer mix is a major factor. \n",
    "\n",
    "## What is Payer Mix?:\n",
    "\n",
    "Payer mix refers to a health systems distribution of third-party payer types.  Typically, private insurance pays the most per episode, followed by Medicare, Medicaid, and lastly Self-Pay. Self-Pay is the industry term for patients without any insurance. Unlike any other business in America, hospitals must treat and stabilize those who cannot pay. This is for good reason. Under [EMTALA](https://www.acep.org/life-as-a-physician/ethics--legal/emtala/emtala-fact-sheet/#:~:text=The%20Emergency%20Medical%20Treatment%20and,has%20remained%20an%20unfunded%20mandate.) rules patients must be seen in the ER and treated for their acute conditions. The American College of Emergency Physicians describes this as an “unfunded mandate” .\n",
    "\n",
    "Imagine instead of a hospital, one was talking about a coffee shop that had to serve coffee to whoever came in. Each customer received a different price depending on the plan they were a member of. The Private  plan members paid \\\\$2 a cup. The Medicare members paid \\$1.2 a cup and the Medicaid members paid 90 cents a cup. Finally, there were folks who were not members of any plan aka Self-Pay members. They could pay 50 cents today but still needed to get coffee today. If coffee costs a business a \\\\$1 per cup one can quickly see how the “mix” of these different types will cause  the coffee shop to remain open or will cause it close."
   ]
  },
  {
   "cell_type": "markdown",
   "metadata": {},
   "source": [
    "## How to use this tool:\n",
    "\n",
    "On your right you can set the different frequency of payer types from 1-10. What matters is not the number itself but the ratio in relation to other payers. If you set all four payer types to 5 there is a 25% chance of a payer of any type walking through the door of the coffee shop. If you set Private to 10 and all other values to 1 then there is a 10/13 chance of the a customer being a private plan payer, a 1/13 chance of him/her being a Medicaid payer ect. To run the simulation click the <span style=\"color:green\">green Run button </span>. If you want to download an HTML version of your iteration of the payer mix you can click the  <span style=\"color:blue\">blue Download button </span>\n",
    "\n",
    "### Simulation Assumptions:\n",
    "This simulation assumes 10 customers a day come to your business for 360 days a year. Each quarter is defined by 120 days or 1,200 customers. The type of customer is randomly determined each time with the wieghts of the random selection being determined as described above."
   ]
  },
  {
   "cell_type": "code",
   "execution_count": 1,
   "metadata": {},
   "outputs": [],
   "source": [
    "from random import choices\n",
    "import pandas \n",
    "\n",
    "import matplotlib as plt\n",
    "import matplotlib.ticker as mtick"
   ]
  },
  {
   "cell_type": "code",
   "execution_count": 2,
   "metadata": {},
   "outputs": [],
   "source": [
    "\n",
    "cost_of_coffee=1.3\n",
    "Self_Pay=[0,10]\n",
    "Medicaid=[0,10]\n",
    "Medicare=[0,10]\n",
    "Private=[0,10]\n",
    "\n",
    "\n",
    "#weights = [.5,1,2,3]\n",
    "\n",
    "\n",
    "\n",
    "\n",
    "#matplotlib.style.use('fivethirtyeight') \n",
    "\n",
    "\n",
    "\n",
    "\n"
   ]
  },
  {
   "cell_type": "code",
   "execution_count": null,
   "metadata": {},
   "outputs": [],
   "source": [
    "print('Summary of Simulation Inputs')"
   ]
  },
  {
   "cell_type": "code",
   "execution_count": 26,
   "metadata": {},
   "outputs": [
    {
     "data": {
      "text/html": [
       "<style  type=\"text/css\" >\n",
       "</style><table id=\"T_b1c1e99c_c184_11ec_97b0_405bd8442eaa\" ><thead>    <tr>        <th class=\"blank level0\" ></th>        <th class=\"col_heading level0 col0\" >% of Payer Mix</th>        <th class=\"col_heading level0 col1\" >Payment For Coffee</th>    </tr>    <tr>        <th class=\"index_name level0\" >Payer Type</th>        <th class=\"blank\" ></th>        <th class=\"blank\" ></th>    </tr></thead><tbody>\n",
       "                <tr>\n",
       "                        <th id=\"T_b1c1e99c_c184_11ec_97b0_405bd8442eaalevel0_row0\" class=\"row_heading level0 row0\" >Self Pay</th>\n",
       "                        <td id=\"T_b1c1e99c_c184_11ec_97b0_405bd8442eaarow0_col0\" class=\"data row0 col0\" >25.00</td>\n",
       "                        <td id=\"T_b1c1e99c_c184_11ec_97b0_405bd8442eaarow0_col1\" class=\"data row0 col1\" >0.50</td>\n",
       "            </tr>\n",
       "            <tr>\n",
       "                        <th id=\"T_b1c1e99c_c184_11ec_97b0_405bd8442eaalevel0_row1\" class=\"row_heading level0 row1\" >Medicaid</th>\n",
       "                        <td id=\"T_b1c1e99c_c184_11ec_97b0_405bd8442eaarow1_col0\" class=\"data row1 col0\" >25.00</td>\n",
       "                        <td id=\"T_b1c1e99c_c184_11ec_97b0_405bd8442eaarow1_col1\" class=\"data row1 col1\" >0.90</td>\n",
       "            </tr>\n",
       "            <tr>\n",
       "                        <th id=\"T_b1c1e99c_c184_11ec_97b0_405bd8442eaalevel0_row2\" class=\"row_heading level0 row2\" >Medicare</th>\n",
       "                        <td id=\"T_b1c1e99c_c184_11ec_97b0_405bd8442eaarow2_col0\" class=\"data row2 col0\" >25.00</td>\n",
       "                        <td id=\"T_b1c1e99c_c184_11ec_97b0_405bd8442eaarow2_col1\" class=\"data row2 col1\" >1.20</td>\n",
       "            </tr>\n",
       "            <tr>\n",
       "                        <th id=\"T_b1c1e99c_c184_11ec_97b0_405bd8442eaalevel0_row3\" class=\"row_heading level0 row3\" >Private</th>\n",
       "                        <td id=\"T_b1c1e99c_c184_11ec_97b0_405bd8442eaarow3_col0\" class=\"data row3 col0\" >25.00</td>\n",
       "                        <td id=\"T_b1c1e99c_c184_11ec_97b0_405bd8442eaarow3_col1\" class=\"data row3 col1\" >2.00</td>\n",
       "            </tr>\n",
       "    </tbody></table>"
      ],
      "text/plain": [
       "<pandas.io.formats.style.Styler at 0x2c012808148>"
      ]
     },
     "execution_count": 26,
     "metadata": {},
     "output_type": "execute_result"
    }
   ],
   "source": [
    "s=Self_Pay\n",
    "m=Medicaid\n",
    "care=Medicare\n",
    "p=Private\n",
    "\n",
    "weights = [s,m,care,p]\n",
    "\n",
    "#weights=[1,1,1,1]\n",
    "population = [.5,.9,1.2,2]\n",
    "\n",
    "name_list=['Self Pay','Medicaid','Medicare','Private']\n",
    "\n",
    "percent_list=[]\n",
    "\n",
    "for w in weights:\n",
    "    percent_list.append((w/sum(weights))*100)\n",
    "\n",
    "sum_list=zip(name_list,percent_list,population)\n",
    "\n",
    "summary_df=pandas.DataFrame(sum_list,columns=['Payer Type','% of Payer Mix','Payment For Coffee'])\n",
    "summary_df['Cost of Cup of Coffee']=cost_of_coffee\n",
    "summary_df['Profit/Loss']=summary_df['Payment For Coffee']-cost_of_coffee\n",
    "summary_df=summary_df.set_index('Payer Type')\n",
    "\n",
    "summary_df.style.format('{0:,.2f}')\n",
    "\n",
    "\n",
    "\n",
    "\n",
    "\n",
    "\n"
   ]
  },
  {
   "cell_type": "code",
   "execution_count": 4,
   "metadata": {},
   "outputs": [],
   "source": [
    "\n",
    "\n",
    "\n",
    "\n",
    "def tag_quarter(x):\n",
    "    if x<1200:\n",
    "        return \"Q1\"\n",
    "    elif x>=1200 and x<2400:\n",
    "        return \"Q2\"\n",
    "    elif x>=2400 and x<3600:\n",
    "        return \"Q3\"\n",
    "    else:\n",
    "        return \"Q4\"\n",
    "\n",
    "def determine_payer(x):\n",
    "    if x==.5:\n",
    "        return \"Self_Pay\"\n",
    "    elif x==.9:\n",
    "        return \"Medicaid\"\n",
    "    elif x==1.2:\n",
    "        return \"Medicare\"\n",
    "    else:\n",
    "        return \"Private\"\n",
    "    \n",
    "def subtract_cost(x):\n",
    "    return float(x)-cost_of_coffee\n",
    "\n",
    "\n",
    "def margin(x):\n",
    "    return float((float(x)-cost_of_coffee)/cost_of_coffee)*100\n",
    "\n",
    "\n",
    "i=0\n",
    "payment_list=[]\n",
    "payer_mix_list=[]\n",
    "while i<4800:\n",
    "    ch=choices(population, weights)\n",
    "    mx=determine_payer(ch[0])\n",
    "    payment_list.append(ch[0])\n",
    "    payer_mix_list.append(mx)\n",
    "    i+=1\n",
    "    \n",
    "zipped_list=zip(payment_list,payer_mix_list)\n",
    "\n",
    "df = pandas.DataFrame(zipped_list, columns=['Payment','PayerType'])\n",
    "df['quarter']=df.index.map(tag_quarter)\n",
    "df['Gain/Loss']=df['Payment'].apply(subtract_cost)\n",
    "df['Margin']=df['Payment'].apply(margin)"
   ]
  },
  {
   "cell_type": "code",
   "execution_count": 5,
   "metadata": {},
   "outputs": [],
   "source": [
    "grouped=df.groupby(['PayerType']).count()\n",
    "grouped_profit=df[['Payment','Gain/Loss','PayerType']].groupby(['PayerType']).sum()\n",
    "grouped_sum=df.groupby(['PayerType']).count()"
   ]
  },
  {
   "cell_type": "code",
   "execution_count": 6,
   "metadata": {},
   "outputs": [],
   "source": [
    "gdf=grouped.reset_index()\n"
   ]
  },
  {
   "cell_type": "code",
   "execution_count": 7,
   "metadata": {},
   "outputs": [],
   "source": [
    "\n",
    "\n",
    "\n",
    "new_grouped=pandas.concat([grouped_profit,grouped_sum],axis=1)\n",
    "\n",
    "\n",
    "\n"
   ]
  },
  {
   "cell_type": "code",
   "execution_count": 8,
   "metadata": {},
   "outputs": [],
   "source": [
    "new_grouped.columns=['Total Revenue','Gain/Loss','quarter','Number of Customers','1','2']\n",
    "new_grouped_2=new_grouped[['Gain/Loss','Total Revenue','Number of Customers']]\n",
    "display_group=new_grouped_2.sort_values('Gain/Loss',ascending=False)\n"
   ]
  },
  {
   "cell_type": "code",
   "execution_count": 9,
   "metadata": {},
   "outputs": [
    {
     "data": {
      "image/png": "[encoded data removed]",
      "text/plain": [
       "<Figure size 720x720 with 1 Axes>"
      ]
     },
     "metadata": {},
     "output_type": "display_data"
    }
   ],
   "source": [
    "def make_autopct(values):\n",
    "    def my_autopct(pct):\n",
    "        total = sum(values)\n",
    "        val = int(round(pct*total/100.0))\n",
    "        return '{p:.2f}%  ({v:,d})'.format(p=pct,v=val)\n",
    "    return my_autopct\n",
    "\n",
    "\n",
    "plot = grouped['Payment'].plot.pie(figsize=(10,10),autopct=make_autopct(grouped['Payment']),title=\"Payer Mix N=4,800\")"
   ]
  },
  {
   "cell_type": "code",
   "execution_count": 10,
   "metadata": {},
   "outputs": [
    {
     "data": {
      "text/html": [
       "<style  type=\"text/css\" >\n",
       "    #T_36731598_c183_11ec_a9bd_405bd8442eaa caption {\n",
       "          color: black;\n",
       "          font-size: 30px;\n",
       "    }    #T_36731598_c183_11ec_a9bd_405bd8442eaarow0_col0 {\n",
       "            background-color:  green;\n",
       "             color:  white;\n",
       "            padding:  40px;\n",
       "            border:  2px solid white;\n",
       "            font-size:  20pt;\n",
       "        }    #T_36731598_c183_11ec_a9bd_405bd8442eaarow0_col1 {\n",
       "            background-color:  green;\n",
       "             color:  white;\n",
       "            padding:  40px;\n",
       "            border:  2px solid white;\n",
       "            font-size:  20pt;\n",
       "        }    #T_36731598_c183_11ec_a9bd_405bd8442eaarow0_col2 {\n",
       "            background-color:  green;\n",
       "             color:  white;\n",
       "            padding:  40px;\n",
       "            border:  2px solid white;\n",
       "            font-size:  20pt;\n",
       "        }    #T_36731598_c183_11ec_a9bd_405bd8442eaarow1_col0 {\n",
       "            background-color:  red;\n",
       "             color:  white;\n",
       "            padding:  40px;\n",
       "            border:  2px solid white;\n",
       "            font-size:  20pt;\n",
       "        }    #T_36731598_c183_11ec_a9bd_405bd8442eaarow1_col1 {\n",
       "            background-color:  green;\n",
       "             color:  white;\n",
       "            padding:  40px;\n",
       "            border:  2px solid white;\n",
       "            font-size:  20pt;\n",
       "        }    #T_36731598_c183_11ec_a9bd_405bd8442eaarow1_col2 {\n",
       "            background-color:  green;\n",
       "             color:  white;\n",
       "            padding:  40px;\n",
       "            border:  2px solid white;\n",
       "            font-size:  20pt;\n",
       "        }    #T_36731598_c183_11ec_a9bd_405bd8442eaarow2_col0 {\n",
       "            background-color:  red;\n",
       "             color:  white;\n",
       "            padding:  40px;\n",
       "            border:  2px solid white;\n",
       "            font-size:  20pt;\n",
       "        }    #T_36731598_c183_11ec_a9bd_405bd8442eaarow2_col1 {\n",
       "            background-color:  green;\n",
       "             color:  white;\n",
       "            padding:  40px;\n",
       "            border:  2px solid white;\n",
       "            font-size:  20pt;\n",
       "        }    #T_36731598_c183_11ec_a9bd_405bd8442eaarow2_col2 {\n",
       "            background-color:  green;\n",
       "             color:  white;\n",
       "            padding:  40px;\n",
       "            border:  2px solid white;\n",
       "            font-size:  20pt;\n",
       "        }    #T_36731598_c183_11ec_a9bd_405bd8442eaarow3_col0 {\n",
       "            background-color:  red;\n",
       "             color:  white;\n",
       "            padding:  40px;\n",
       "            border:  2px solid white;\n",
       "            font-size:  20pt;\n",
       "        }    #T_36731598_c183_11ec_a9bd_405bd8442eaarow3_col1 {\n",
       "            background-color:  green;\n",
       "             color:  white;\n",
       "            padding:  40px;\n",
       "            border:  2px solid white;\n",
       "            font-size:  20pt;\n",
       "        }    #T_36731598_c183_11ec_a9bd_405bd8442eaarow3_col2 {\n",
       "            background-color:  green;\n",
       "             color:  white;\n",
       "            padding:  40px;\n",
       "            border:  2px solid white;\n",
       "            font-size:  20pt;\n",
       "        }</style><table id=\"T_36731598_c183_11ec_a9bd_405bd8442eaa\" ><caption>Revenues and P/L by Payer</caption><thead>    <tr>        <th class=\"blank level0\" ></th>        <th class=\"col_heading level0 col0\" >Gain/Loss</th>        <th class=\"col_heading level0 col1\" >Total Revenue</th>        <th class=\"col_heading level0 col2\" >Number of Customers</th>    </tr>    <tr>        <th class=\"index_name level0\" >PayerType</th>        <th class=\"blank\" ></th>        <th class=\"blank\" ></th>        <th class=\"blank\" ></th>    </tr></thead><tbody>\n",
       "                <tr>\n",
       "                        <th id=\"T_36731598_c183_11ec_a9bd_405bd8442eaalevel0_row0\" class=\"row_heading level0 row0\" >Private</th>\n",
       "                        <td id=\"T_36731598_c183_11ec_a9bd_405bd8442eaarow0_col0\" class=\"data row0 col0\" >848</td>\n",
       "                        <td id=\"T_36731598_c183_11ec_a9bd_405bd8442eaarow0_col1\" class=\"data row0 col1\" >2,424</td>\n",
       "                        <td id=\"T_36731598_c183_11ec_a9bd_405bd8442eaarow0_col2\" class=\"data row0 col2\" >1,212</td>\n",
       "            </tr>\n",
       "            <tr>\n",
       "                        <th id=\"T_36731598_c183_11ec_a9bd_405bd8442eaalevel0_row1\" class=\"row_heading level0 row1\" >Medicare</th>\n",
       "                        <td id=\"T_36731598_c183_11ec_a9bd_405bd8442eaarow1_col0\" class=\"data row1 col0\" >-119</td>\n",
       "                        <td id=\"T_36731598_c183_11ec_a9bd_405bd8442eaarow1_col1\" class=\"data row1 col1\" >1,429</td>\n",
       "                        <td id=\"T_36731598_c183_11ec_a9bd_405bd8442eaarow1_col2\" class=\"data row1 col2\" >1,191</td>\n",
       "            </tr>\n",
       "            <tr>\n",
       "                        <th id=\"T_36731598_c183_11ec_a9bd_405bd8442eaalevel0_row2\" class=\"row_heading level0 row2\" >Medicaid</th>\n",
       "                        <td id=\"T_36731598_c183_11ec_a9bd_405bd8442eaarow2_col0\" class=\"data row2 col0\" >-478</td>\n",
       "                        <td id=\"T_36731598_c183_11ec_a9bd_405bd8442eaarow2_col1\" class=\"data row2 col1\" >1,075</td>\n",
       "                        <td id=\"T_36731598_c183_11ec_a9bd_405bd8442eaarow2_col2\" class=\"data row2 col2\" >1,194</td>\n",
       "            </tr>\n",
       "            <tr>\n",
       "                        <th id=\"T_36731598_c183_11ec_a9bd_405bd8442eaalevel0_row3\" class=\"row_heading level0 row3\" >Self_Pay</th>\n",
       "                        <td id=\"T_36731598_c183_11ec_a9bd_405bd8442eaarow3_col0\" class=\"data row3 col0\" >-962</td>\n",
       "                        <td id=\"T_36731598_c183_11ec_a9bd_405bd8442eaarow3_col1\" class=\"data row3 col1\" >602</td>\n",
       "                        <td id=\"T_36731598_c183_11ec_a9bd_405bd8442eaarow3_col2\" class=\"data row3 col2\" >1,203</td>\n",
       "            </tr>\n",
       "    </tbody></table>"
      ],
      "text/plain": [
       "<pandas.io.formats.style.Styler at 0x2c011ff09c8>"
      ]
     },
     "execution_count": 10,
     "metadata": {},
     "output_type": "execute_result"
    }
   ],
   "source": [
    "## all credit for styling goes to:https://towardsdatascience.com/make-your-pandas-dataframe-output-report-ready-a9440f6045c6\n",
    "\n",
    "def highlight_number(row):\n",
    "    return [\n",
    "        'background-color: red; color: white' if cell <= 0 \n",
    "        else 'background-color: green; color: white'\n",
    "        for cell in row\n",
    "    ]\n",
    "\n",
    "display_group.style \\\n",
    "  .apply(highlight_number) \\\n",
    "  .format('{0:,.0f}') \\\n",
    "  .set_caption('Revenues and P/L by Payer').set_table_styles([{\n",
    "    'selector': 'caption',\n",
    "    'props': [\n",
    "        ('color', 'black'),\n",
    "        ('font-size', '30px')\n",
    "    ]\n",
    "}]) \\\n",
    "  .set_properties(**{'padding':\"40px\", 'border':'2px solid white','font-size': '20pt'})\n",
    "\n",
    "#grouped_profit.style.set_properties(**{ 'font-size': '20pt'})"
   ]
  },
  {
   "cell_type": "code",
   "execution_count": 11,
   "metadata": {},
   "outputs": [],
   "source": [
    "#df['Gain/Loss'].cumsum().plot( title=\"P/L Over Customer Time\",figsize=(10, 10));"
   ]
  },
  {
   "cell_type": "code",
   "execution_count": 12,
   "metadata": {},
   "outputs": [
    {
     "data": {
      "image/png": "[encoded data removed]",
      "text/plain": [
       "<Figure size 720x720 with 1 Axes>"
      ]
     },
     "metadata": {
      "needs_background": "light"
     },
     "output_type": "display_data"
    }
   ],
   "source": [
    "def dollars(x):\n",
    "     return \"${:,.2f}\".format(x)\n",
    "    \n",
    "\n",
    "\n",
    "graph1_df=df[['Margin','quarter']]\n",
    "graph2_df=df[['Margin','quarter','PayerType']]\n",
    "\n",
    "\n",
    "\n",
    "\n",
    "\n",
    "\n",
    "data1=graph1_df.groupby(['quarter']).sum()\n",
    "\n",
    "\n",
    "\n",
    "\n",
    "ax=data1.plot.bar(\n",
    "                                     title=\"Quarterly Profit and Loss Overall\",figsize=(10,10)\n",
    "                                   \n",
    "                             \n",
    "                                    )\n",
    "\n",
    "fmt = '${x:1,.2f}' # Format you want the ticks, e.g. '40%'\n",
    "yticks = mtick.StrMethodFormatter(fmt)\n",
    "ax.yaxis.set_major_formatter(yticks)\n",
    "\n",
    "graph_3=graph2_df.groupby(['quarter','PayerType']).sum()\n",
    "graph_3=graph_3.reset_index()\n",
    "\n",
    "#graph_3=graph_3.set_index(['quarter'])\n",
    "graph4=pandas.pivot_table(graph_3,index=['quarter'],columns=['PayerType'])\n",
    "\n",
    "\n",
    "\n"
   ]
  },
  {
   "cell_type": "code",
   "execution_count": 13,
   "metadata": {},
   "outputs": [
    {
     "data": {
      "image/png": "[encoded data removed]",
      "text/plain": [
       "<Figure size 720x720 with 1 Axes>"
      ]
     },
     "metadata": {
      "needs_background": "light"
     },
     "output_type": "display_data"
    }
   ],
   "source": [
    "\n",
    "\n",
    "ax=graph4.plot.bar(                                  title=\"Quarterly Profit and Loss by Payer Type\",figsize=(10,10),\n",
    "                                   color=['red','green','blue','yellow'],\n",
    "               \n",
    "               \n",
    "               )\n",
    "\n",
    "fmt = '${x:1,.2f}' # Format you want the ticks, e.g. '40%'\n",
    "yticks = mtick.StrMethodFormatter(fmt)\n",
    "ax.yaxis.set_major_formatter(yticks)\n",
    "\n",
    "L=ax.legend()\n",
    "L.get_texts()[0].set_text('Medicaid')\n",
    "L.get_texts()[1].set_text('Medicare')\n",
    "L.get_texts()[2].set_text('Private')\n",
    "L.get_texts()[3].set_text('Self Pay')\n"
   ]
  },
  {
   "cell_type": "markdown",
   "metadata": {},
   "source": [
    "Interested in learning more? Send an email to [Michaeljfriend1@gmail.com](mailto:michaeljfriend1@gmail.com)  \n",
    "Check out other [writings](https://healthcarestrat.substack.com/)  \n",
    "Connect with me on [LinkedIn](https://www.linkedin.com/in/friendm/)"
   ]
  },
  {
   "cell_type": "code",
   "execution_count": null,
   "metadata": {},
   "outputs": [],
   "source": []
  }
 ],
 "metadata": {
  "kernelspec": {
   "display_name": "Python 3",
   "language": "python",
   "name": "python3"
  },
  "language_info": {
   "codemirror_mode": {
    "name": "ipython",
    "version": 3
   },
   "file_extension": ".py",
   "mimetype": "text/x-python",
   "name": "python",
   "nbconvert_exporter": "python",
   "pygments_lexer": "ipython3",
   "version": "3.7.6"
  }
 },
 "nbformat": 4,
 "nbformat_minor": 4
}
