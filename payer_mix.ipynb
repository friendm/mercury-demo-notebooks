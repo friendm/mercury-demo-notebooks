{
 "cells": [
  {
   "cell_type": "raw",
   "metadata": {},
   "source": [
    "---\n",
    "title: Payer Mix Matters\n",
    "author: Mike Friend\n",
    "show-code: False\n",
    "description: A simple tool to show how payer mix can make or break a hospital\n",
    "params:\n",
    " Self_Pay:\n",
    "        input: slider\n",
    "        label: Self-Pay\n",
    "        value: 5\n",
    "        min: 0\n",
    "        max: 10\n",
    " Medicaid:\n",
    "        input: slider\n",
    "        label: Medicaid\n",
    "        value: 5\n",
    "        min: 0\n",
    "        max: 10\n",
    " Medicare:\n",
    "        input: slider\n",
    "        label: Medicare\n",
    "        value: 5\n",
    "        min: 0\n",
    "        max: 10\n",
    " Private:\n",
    "        input: slider\n",
    "        label: private\n",
    "        value: 5\n",
    "        min: 0\n",
    "        max: 10\n",
    " cost_of_coffee:\n",
    "        input: numeric\n",
    "        label: The price it costs you to serve a cup of coffee\n",
    "        value: 1\n",
    "        min: .1\n",
    "        max: 1.9\n",
    "        step: 0.1\n",
    "---"
   ]
  },
  {
   "cell_type": "markdown",
   "metadata": {},
   "source": [
    "# Rural Hospitals are in trouble and Payer Mix is at least partially to blame:\n",
    "\n",
    "Since 2005, a rural hospital closes in America every 30 days on average  according to UNC’s SHEPS center program on Rural Hospital Closures. This trend is only accelerating. In 2020 according to Becker’s  the rate of closure was every 18 days.  This means more and more Americans, a fifth of which live in rural America, have to go farther to receive inpatient hospital-level care. In addition, in many communities’ hospitals are not only a source of health but also a major employer. The question of why these hospitals close is a complex issue but payor mix is a major factor. \n",
    "\n",
    "# What is Payer Mix?:\n",
    "\n",
    "Payor mix refers to a health systems distribution of third-party payer types.  Typically, private insurance pays the most per episode, followed by Medicare, Medicaid, and lastly Self-Pay. Self-Pay is the industry term for patients without any insurance. Unlike any other business in America, hospitals must treat and stabilize those who cannot pay. This is for good reason. Under EMTALA rules patients must be seen in the ER and treated for their acute conditions. The American College of Emergency Physicians describes this as an “unfunded mandate” .\n",
    "\n",
    "Imagine instead of a hospital one was talking about a coffee shop that had to serve coffee to whoever came in. Instead of one price for a cup each customer received a different price depending on the plan they were a member of. The Private  plan members paid \\\\$2 a cup. The Medicare members paid \\$1.2 a cup and the Medicaid members paid 90 cents a cup. Finally, there were folks who were not members of any plan aka Self-Pay members. They could pay 50 cents today but still needed to get coffee today. If coffee costs a business a \\\\$1 per cup one can quickly see how the “mix” of these different types will cause  the coffee shop to remain open or will cause it close."
   ]
  },
  {
   "cell_type": "markdown",
   "metadata": {},
   "source": [
    "# How to use this tool:\n",
    "\n",
    "On your right you can set the different frequency of payer types from 1-10. What matters is not the number itself but the ratio in relation to other payers. If you set all four payer types to 5 there is a 25% chance of a payer of any type walking through the door of your coffee shop. But if you set all values at 1 except Private which you set to 10 then there is a 10/13 chance that a private payer walks through the door. This simulation samples 1,000 customers."
   ]
  },
  {
   "cell_type": "code",
   "execution_count": 1,
   "metadata": {},
   "outputs": [],
   "source": [
    "from random import choices\n",
    "import pandas \n",
    "\n",
    "import matplotlib as plt"
   ]
  },
  {
   "cell_type": "code",
   "execution_count": 2,
   "metadata": {},
   "outputs": [],
   "source": [
    "\n",
    "cost_of_coffee=1.3\n",
    "Self_Pay=[0,10]\n",
    "Medicaid=[0,10]\n",
    "Medicare=[0,10]\n",
    "Private=[0,10]\n",
    "\n",
    "\n",
    "#weights = [.5,1,2,3]\n",
    "\n",
    "\n",
    "\n",
    "\n",
    "#matplotlib.style.use('fivethirtyeight') \n",
    "\n",
    "\n",
    "\n",
    "\n"
   ]
  },
  {
   "cell_type": "code",
   "execution_count": 59,
   "metadata": {},
   "outputs": [],
   "source": [
    "#s=Self_Pay\n",
    "#m=Medicaid\n",
    "#care=Medicare\n",
    "#p=Private\n",
    "\n",
    "#weights = [s,m,care,p]\n",
    "\n",
    "weights=[1,1,1,1]\n",
    "population = [.5,.9,1.2,2]\n",
    "\n",
    "def tag_quarter(x):\n",
    "    if x<1200:\n",
    "        return \"Q1\"\n",
    "    elif x>=1200 and x<2400:\n",
    "        return \"Q2\"\n",
    "    elif x>=2400 and x<3600:\n",
    "        return \"Q3\"\n",
    "    else:\n",
    "        return \"Q4\"\n",
    "\n",
    "def determine_payer(x):\n",
    "    if x==.5:\n",
    "        return \"Self_Pay\"\n",
    "    elif x==.9:\n",
    "        return \"Medicaid\"\n",
    "    elif x==1.2:\n",
    "        return \"Medicare\"\n",
    "    else:\n",
    "        return \"Private\"\n",
    "    \n",
    "def subtract_cost(x):\n",
    "    return float(x)-cost_of_coffee\n",
    "\n",
    "\n",
    "def margin(x):\n",
    "    return float((float(x)-cost_of_coffee)/cost_of_coffee)*100\n",
    "\n",
    "\n",
    "i=0\n",
    "payment_list=[]\n",
    "payer_mix_list=[]\n",
    "while i<4800:\n",
    "    ch=choices(population, weights)\n",
    "    mx=determine_payer(ch[0])\n",
    "    payment_list.append(ch[0])\n",
    "    payer_mix_list.append(mx)\n",
    "    i+=1\n",
    "    \n",
    "zipped_list=zip(payment_list,payer_mix_list)\n",
    "\n",
    "df = pandas.DataFrame(zipped_list, columns=['Payment','PayerType'])\n",
    "df['quarter']=df.index.map(tag_quarter)\n",
    "\n",
    "\n"
   ]
  },
  {
   "cell_type": "code",
   "execution_count": 60,
   "metadata": {},
   "outputs": [],
   "source": [
    "df['Gain/Loss']=df['Payment'].apply(subtract_cost)\n",
    "df['Margin']=df['Payment'].apply(margin)"
   ]
  },
  {
   "cell_type": "code",
   "execution_count": 61,
   "metadata": {},
   "outputs": [],
   "source": [
    "grouped=df.groupby(['PayerType']).count()\n",
    "grouped_profit=df[['Payment','Gain/Loss','PayerType']].groupby(['PayerType']).sum()\n",
    "grouped_sum=df.groupby(['PayerType']).count()"
   ]
  },
  {
   "cell_type": "code",
   "execution_count": 62,
   "metadata": {},
   "outputs": [
    {
     "data": {
      "text/html": [
       "<div>\n",
       "<style scoped>\n",
       "    .dataframe tbody tr th:only-of-type {\n",
       "        vertical-align: middle;\n",
       "    }\n",
       "\n",
       "    .dataframe tbody tr th {\n",
       "        vertical-align: top;\n",
       "    }\n",
       "\n",
       "    .dataframe thead th {\n",
       "        text-align: right;\n",
       "    }\n",
       "</style>\n",
       "<table border=\"1\" class=\"dataframe\">\n",
       "  <thead>\n",
       "    <tr style=\"text-align: right;\">\n",
       "      <th></th>\n",
       "      <th>Payment</th>\n",
       "      <th>PayerType</th>\n",
       "      <th>quarter</th>\n",
       "      <th>Gain/Loss</th>\n",
       "      <th>Margin</th>\n",
       "    </tr>\n",
       "  </thead>\n",
       "  <tbody>\n",
       "    <tr>\n",
       "      <th>0</th>\n",
       "      <td>2.0</td>\n",
       "      <td>Private</td>\n",
       "      <td>Q1</td>\n",
       "      <td>0.7</td>\n",
       "      <td>53.846154</td>\n",
       "    </tr>\n",
       "    <tr>\n",
       "      <th>1</th>\n",
       "      <td>2.0</td>\n",
       "      <td>Private</td>\n",
       "      <td>Q1</td>\n",
       "      <td>0.7</td>\n",
       "      <td>53.846154</td>\n",
       "    </tr>\n",
       "    <tr>\n",
       "      <th>2</th>\n",
       "      <td>1.2</td>\n",
       "      <td>Medicare</td>\n",
       "      <td>Q1</td>\n",
       "      <td>-0.1</td>\n",
       "      <td>-7.692308</td>\n",
       "    </tr>\n",
       "    <tr>\n",
       "      <th>3</th>\n",
       "      <td>0.9</td>\n",
       "      <td>Medicaid</td>\n",
       "      <td>Q1</td>\n",
       "      <td>-0.4</td>\n",
       "      <td>-30.769231</td>\n",
       "    </tr>\n",
       "    <tr>\n",
       "      <th>4</th>\n",
       "      <td>2.0</td>\n",
       "      <td>Private</td>\n",
       "      <td>Q1</td>\n",
       "      <td>0.7</td>\n",
       "      <td>53.846154</td>\n",
       "    </tr>\n",
       "    <tr>\n",
       "      <th>5</th>\n",
       "      <td>0.9</td>\n",
       "      <td>Medicaid</td>\n",
       "      <td>Q1</td>\n",
       "      <td>-0.4</td>\n",
       "      <td>-30.769231</td>\n",
       "    </tr>\n",
       "    <tr>\n",
       "      <th>6</th>\n",
       "      <td>1.2</td>\n",
       "      <td>Medicare</td>\n",
       "      <td>Q1</td>\n",
       "      <td>-0.1</td>\n",
       "      <td>-7.692308</td>\n",
       "    </tr>\n",
       "    <tr>\n",
       "      <th>7</th>\n",
       "      <td>0.5</td>\n",
       "      <td>Self_Pay</td>\n",
       "      <td>Q1</td>\n",
       "      <td>-0.8</td>\n",
       "      <td>-61.538462</td>\n",
       "    </tr>\n",
       "    <tr>\n",
       "      <th>8</th>\n",
       "      <td>2.0</td>\n",
       "      <td>Private</td>\n",
       "      <td>Q1</td>\n",
       "      <td>0.7</td>\n",
       "      <td>53.846154</td>\n",
       "    </tr>\n",
       "    <tr>\n",
       "      <th>9</th>\n",
       "      <td>0.9</td>\n",
       "      <td>Medicaid</td>\n",
       "      <td>Q1</td>\n",
       "      <td>-0.4</td>\n",
       "      <td>-30.769231</td>\n",
       "    </tr>\n",
       "  </tbody>\n",
       "</table>\n",
       "</div>"
      ],
      "text/plain": [
       "   Payment PayerType quarter  Gain/Loss     Margin\n",
       "0      2.0   Private      Q1        0.7  53.846154\n",
       "1      2.0   Private      Q1        0.7  53.846154\n",
       "2      1.2  Medicare      Q1       -0.1  -7.692308\n",
       "3      0.9  Medicaid      Q1       -0.4 -30.769231\n",
       "4      2.0   Private      Q1        0.7  53.846154\n",
       "5      0.9  Medicaid      Q1       -0.4 -30.769231\n",
       "6      1.2  Medicare      Q1       -0.1  -7.692308\n",
       "7      0.5  Self_Pay      Q1       -0.8 -61.538462\n",
       "8      2.0   Private      Q1        0.7  53.846154\n",
       "9      0.9  Medicaid      Q1       -0.4 -30.769231"
      ]
     },
     "execution_count": 62,
     "metadata": {},
     "output_type": "execute_result"
    }
   ],
   "source": [
    "gdf=grouped.reset_index()\n"
   ]
  },
  {
   "cell_type": "code",
   "execution_count": 67,
   "metadata": {},
   "outputs": [],
   "source": [
    "\n",
    "\n",
    "\n",
    "new_grouped=pandas.concat([grouped_profit,grouped_sum],axis=1)\n",
    "\n",
    "\n",
    "\n"
   ]
  },
  {
   "cell_type": "code",
   "execution_count": 68,
   "metadata": {},
   "outputs": [
    {
     "name": "stdout",
     "output_type": "stream",
     "text": [
      "           Gain/Loss  Total Revenue  Number of Customers\n",
      "PayerType                                               \n",
      "Private        877.8         2508.0                 1254\n",
      "Medicare      -119.1         1429.2                 1191\n",
      "Medicaid      -472.8         1063.8                 1182\n",
      "Self_Pay      -938.4          586.5                 1173\n"
     ]
    }
   ],
   "source": [
    "new_grouped.columns=['Total Revenue','Gain/Loss','quarter','Number of Customers','1','2']\n",
    "new_grouped_2=new_grouped[['Gain/Loss','Total Revenue','Number of Customers']]\n",
    "display_group=new_grouped_2.sort_values('Gain/Loss',ascending=False)\n",
    "\n",
    "\n",
    "\n",
    "print(display_group)"
   ]
  },
  {
   "cell_type": "code",
   "execution_count": 69,
   "metadata": {},
   "outputs": [
    {
     "data": {
      "image/png": "[encoded data removed]",
      "text/plain": [
       "<Figure size 720x720 with 1 Axes>"
      ]
     },
     "metadata": {},
     "output_type": "display_data"
    }
   ],
   "source": [
    "plot = grouped['Payment'].plot.pie(figsize=(10,10),autopct='%1.1f%%',title=\"Payer Mix\")"
   ]
  },
  {
   "cell_type": "code",
   "execution_count": 70,
   "metadata": {},
   "outputs": [
    {
     "data": {
      "text/html": [
       "<style type=\"text/css\">\n",
       "#T_51071_ caption {\n",
       "  color: black;\n",
       "  font-size: 30px;\n",
       "}\n",
       "#T_51071_row0_col0, #T_51071_row0_col1, #T_51071_row0_col2, #T_51071_row1_col1, #T_51071_row1_col2, #T_51071_row2_col1, #T_51071_row2_col2, #T_51071_row3_col1, #T_51071_row3_col2 {\n",
       "  background-color: green;\n",
       "  color: white;\n",
       "  padding: 40px;\n",
       "  border: 2px solid white;\n",
       "  font-size: 20pt;\n",
       "}\n",
       "#T_51071_row1_col0, #T_51071_row2_col0, #T_51071_row3_col0 {\n",
       "  background-color: red;\n",
       "  color: white;\n",
       "  padding: 40px;\n",
       "  border: 2px solid white;\n",
       "  font-size: 20pt;\n",
       "}\n",
       "</style>\n",
       "<table id=\"T_51071_\">\n",
       "  <caption>Revenues and P/L by Payer</caption>\n",
       "  <thead>\n",
       "    <tr>\n",
       "      <th class=\"blank level0\" >&nbsp;</th>\n",
       "      <th class=\"col_heading level0 col0\" >Gain/Loss</th>\n",
       "      <th class=\"col_heading level0 col1\" >Total Revenue</th>\n",
       "      <th class=\"col_heading level0 col2\" >Number of Customers</th>\n",
       "    </tr>\n",
       "    <tr>\n",
       "      <th class=\"index_name level0\" >PayerType</th>\n",
       "      <th class=\"blank col0\" >&nbsp;</th>\n",
       "      <th class=\"blank col1\" >&nbsp;</th>\n",
       "      <th class=\"blank col2\" >&nbsp;</th>\n",
       "    </tr>\n",
       "  </thead>\n",
       "  <tbody>\n",
       "    <tr>\n",
       "      <th id=\"T_51071_level0_row0\" class=\"row_heading level0 row0\" >Private</th>\n",
       "      <td id=\"T_51071_row0_col0\" class=\"data row0 col0\" >878</td>\n",
       "      <td id=\"T_51071_row0_col1\" class=\"data row0 col1\" >2,508</td>\n",
       "      <td id=\"T_51071_row0_col2\" class=\"data row0 col2\" >1,254</td>\n",
       "    </tr>\n",
       "    <tr>\n",
       "      <th id=\"T_51071_level0_row1\" class=\"row_heading level0 row1\" >Medicare</th>\n",
       "      <td id=\"T_51071_row1_col0\" class=\"data row1 col0\" >-119</td>\n",
       "      <td id=\"T_51071_row1_col1\" class=\"data row1 col1\" >1,429</td>\n",
       "      <td id=\"T_51071_row1_col2\" class=\"data row1 col2\" >1,191</td>\n",
       "    </tr>\n",
       "    <tr>\n",
       "      <th id=\"T_51071_level0_row2\" class=\"row_heading level0 row2\" >Medicaid</th>\n",
       "      <td id=\"T_51071_row2_col0\" class=\"data row2 col0\" >-473</td>\n",
       "      <td id=\"T_51071_row2_col1\" class=\"data row2 col1\" >1,064</td>\n",
       "      <td id=\"T_51071_row2_col2\" class=\"data row2 col2\" >1,182</td>\n",
       "    </tr>\n",
       "    <tr>\n",
       "      <th id=\"T_51071_level0_row3\" class=\"row_heading level0 row3\" >Self_Pay</th>\n",
       "      <td id=\"T_51071_row3_col0\" class=\"data row3 col0\" >-938</td>\n",
       "      <td id=\"T_51071_row3_col1\" class=\"data row3 col1\" >586</td>\n",
       "      <td id=\"T_51071_row3_col2\" class=\"data row3 col2\" >1,173</td>\n",
       "    </tr>\n",
       "  </tbody>\n",
       "</table>\n"
      ],
      "text/plain": [
       "<pandas.io.formats.style.Styler at 0x1b615329b08>"
      ]
     },
     "execution_count": 70,
     "metadata": {},
     "output_type": "execute_result"
    }
   ],
   "source": [
    "## all credit for styling goes to:https://towardsdatascience.com/make-your-pandas-dataframe-output-report-ready-a9440f6045c6\n",
    "\n",
    "def highlight_number(row):\n",
    "    return [\n",
    "        'background-color: red; color: white' if cell <= 0 \n",
    "        else 'background-color: green; color: white'\n",
    "        for cell in row\n",
    "    ]\n",
    "\n",
    "display_group.style \\\n",
    "  .apply(highlight_number) \\\n",
    "  .format('{0:,.0f}') \\\n",
    "  .set_caption('Revenues and P/L by Payer').set_table_styles([{\n",
    "    'selector': 'caption',\n",
    "    'props': [\n",
    "        ('color', 'black'),\n",
    "        ('font-size', '30px')\n",
    "    ]\n",
    "}]) \\\n",
    "  .set_properties(**{'padding':\"40px\", 'border':'2px solid white','font-size': '20pt'})\n",
    "\n",
    "#grouped_profit.style.set_properties(**{ 'font-size': '20pt'})"
   ]
  },
  {
   "cell_type": "code",
   "execution_count": 71,
   "metadata": {},
   "outputs": [
    {
     "data": {
      "image/png": "[encoded data removed]",
      "text/plain": [
       "<Figure size 720x720 with 1 Axes>"
      ]
     },
     "metadata": {
      "needs_background": "light"
     },
     "output_type": "display_data"
    }
   ],
   "source": [
    "df['Gain/Loss'].cumsum().plot(ylabel=\"Profit and Loss\",xlabel=\"Number of Customers\", title=\"P/L Over Customer Time\",figsize=(10, 10));"
   ]
  },
  {
   "cell_type": "code",
   "execution_count": 99,
   "metadata": {},
   "outputs": [
    {
     "ename": "TypeError",
     "evalue": "'<' not supported between instances of 'str' and 'int'",
     "output_type": "error",
     "traceback": [
      "\u001b[1;31m---------------------------------------------------------------------------\u001b[0m",
      "\u001b[1;31mTypeError\u001b[0m                                 Traceback (most recent call last)",
      "\u001b[1;32m<ipython-input-99-f4b31c29fe66>\u001b[0m in \u001b[0;36m<module>\u001b[1;34m\u001b[0m\n\u001b[0;32m     15\u001b[0m                                      \u001b[0mtitle\u001b[0m\u001b[1;33m=\u001b[0m\u001b[1;34m\"Quarterly Profit and Loss by Payer Type\"\u001b[0m\u001b[1;33m,\u001b[0m\u001b[0mfigsize\u001b[0m\u001b[1;33m=\u001b[0m\u001b[1;33m(\u001b[0m\u001b[1;36m10\u001b[0m\u001b[1;33m,\u001b[0m\u001b[1;36m10\u001b[0m\u001b[1;33m)\u001b[0m\u001b[1;33m,\u001b[0m\u001b[1;33m\u001b[0m\u001b[1;33m\u001b[0m\u001b[0m\n\u001b[0;32m     16\u001b[0m                                    \u001b[0mcolor\u001b[0m\u001b[1;33m=\u001b[0m\u001b[1;33m[\u001b[0m\u001b[1;34m'red'\u001b[0m\u001b[1;33m,\u001b[0m\u001b[1;34m'green'\u001b[0m\u001b[1;33m,\u001b[0m\u001b[1;34m'blue'\u001b[0m\u001b[1;33m,\u001b[0m\u001b[1;34m'yellow'\u001b[0m\u001b[1;33m]\u001b[0m\u001b[1;33m,\u001b[0m\u001b[1;33m\u001b[0m\u001b[1;33m\u001b[0m\u001b[0m\n\u001b[1;32m---> 17\u001b[1;33m     \u001b[0myticks\u001b[0m\u001b[1;33m=\u001b[0m\u001b[1;33m[\u001b[0m\u001b[1;36m0\u001b[0m\u001b[1;33m,\u001b[0m\u001b[1;34m'$1500'\u001b[0m\u001b[1;33m]\u001b[0m\u001b[1;33m\u001b[0m\u001b[1;33m\u001b[0m\u001b[0m\n\u001b[0m\u001b[0;32m     18\u001b[0m \u001b[1;33m\u001b[0m\u001b[0m\n\u001b[0;32m     19\u001b[0m                                     );\n",
      "\u001b[1;32m~\\anaconda3\\lib\\site-packages\\pandas\\plotting\\_core.py\u001b[0m in \u001b[0;36mbar\u001b[1;34m(self, x, y, **kwargs)\u001b[0m\n\u001b[0;32m   1128\u001b[0m         \u001b[0mother\u001b[0m \u001b[0maxis\u001b[0m \u001b[0mrepresents\u001b[0m \u001b[0ma\u001b[0m \u001b[0mmeasured\u001b[0m \u001b[0mvalue\u001b[0m\u001b[1;33m.\u001b[0m\u001b[1;33m\u001b[0m\u001b[1;33m\u001b[0m\u001b[0m\n\u001b[0;32m   1129\u001b[0m         \"\"\"\n\u001b[1;32m-> 1130\u001b[1;33m         \u001b[1;32mreturn\u001b[0m \u001b[0mself\u001b[0m\u001b[1;33m(\u001b[0m\u001b[0mkind\u001b[0m\u001b[1;33m=\u001b[0m\u001b[1;34m\"bar\"\u001b[0m\u001b[1;33m,\u001b[0m \u001b[0mx\u001b[0m\u001b[1;33m=\u001b[0m\u001b[0mx\u001b[0m\u001b[1;33m,\u001b[0m \u001b[0my\u001b[0m\u001b[1;33m=\u001b[0m\u001b[0my\u001b[0m\u001b[1;33m,\u001b[0m \u001b[1;33m**\u001b[0m\u001b[0mkwargs\u001b[0m\u001b[1;33m)\u001b[0m\u001b[1;33m\u001b[0m\u001b[1;33m\u001b[0m\u001b[0m\n\u001b[0m\u001b[0;32m   1131\u001b[0m \u001b[1;33m\u001b[0m\u001b[0m\n\u001b[0;32m   1132\u001b[0m     @Appender(\n",
      "\u001b[1;32m~\\anaconda3\\lib\\site-packages\\pandas\\plotting\\_core.py\u001b[0m in \u001b[0;36m__call__\u001b[1;34m(self, *args, **kwargs)\u001b[0m\n\u001b[0;32m    970\u001b[0m                     \u001b[0mdata\u001b[0m\u001b[1;33m.\u001b[0m\u001b[0mcolumns\u001b[0m \u001b[1;33m=\u001b[0m \u001b[0mlabel_name\u001b[0m\u001b[1;33m\u001b[0m\u001b[1;33m\u001b[0m\u001b[0m\n\u001b[0;32m    971\u001b[0m \u001b[1;33m\u001b[0m\u001b[0m\n\u001b[1;32m--> 972\u001b[1;33m         \u001b[1;32mreturn\u001b[0m \u001b[0mplot_backend\u001b[0m\u001b[1;33m.\u001b[0m\u001b[0mplot\u001b[0m\u001b[1;33m(\u001b[0m\u001b[0mdata\u001b[0m\u001b[1;33m,\u001b[0m \u001b[0mkind\u001b[0m\u001b[1;33m=\u001b[0m\u001b[0mkind\u001b[0m\u001b[1;33m,\u001b[0m \u001b[1;33m**\u001b[0m\u001b[0mkwargs\u001b[0m\u001b[1;33m)\u001b[0m\u001b[1;33m\u001b[0m\u001b[1;33m\u001b[0m\u001b[0m\n\u001b[0m\u001b[0;32m    973\u001b[0m \u001b[1;33m\u001b[0m\u001b[0m\n\u001b[0;32m    974\u001b[0m     \u001b[0m__call__\u001b[0m\u001b[1;33m.\u001b[0m\u001b[0m__doc__\u001b[0m \u001b[1;33m=\u001b[0m \u001b[0m__doc__\u001b[0m\u001b[1;33m\u001b[0m\u001b[1;33m\u001b[0m\u001b[0m\n",
      "\u001b[1;32m~\\anaconda3\\lib\\site-packages\\pandas\\plotting\\_matplotlib\\__init__.py\u001b[0m in \u001b[0;36mplot\u001b[1;34m(data, kind, **kwargs)\u001b[0m\n\u001b[0;32m     69\u001b[0m             \u001b[0mkwargs\u001b[0m\u001b[1;33m[\u001b[0m\u001b[1;34m\"ax\"\u001b[0m\u001b[1;33m]\u001b[0m \u001b[1;33m=\u001b[0m \u001b[0mgetattr\u001b[0m\u001b[1;33m(\u001b[0m\u001b[0max\u001b[0m\u001b[1;33m,\u001b[0m \u001b[1;34m\"left_ax\"\u001b[0m\u001b[1;33m,\u001b[0m \u001b[0max\u001b[0m\u001b[1;33m)\u001b[0m\u001b[1;33m\u001b[0m\u001b[1;33m\u001b[0m\u001b[0m\n\u001b[0;32m     70\u001b[0m     \u001b[0mplot_obj\u001b[0m \u001b[1;33m=\u001b[0m \u001b[0mPLOT_CLASSES\u001b[0m\u001b[1;33m[\u001b[0m\u001b[0mkind\u001b[0m\u001b[1;33m]\u001b[0m\u001b[1;33m(\u001b[0m\u001b[0mdata\u001b[0m\u001b[1;33m,\u001b[0m \u001b[1;33m**\u001b[0m\u001b[0mkwargs\u001b[0m\u001b[1;33m)\u001b[0m\u001b[1;33m\u001b[0m\u001b[1;33m\u001b[0m\u001b[0m\n\u001b[1;32m---> 71\u001b[1;33m     \u001b[0mplot_obj\u001b[0m\u001b[1;33m.\u001b[0m\u001b[0mgenerate\u001b[0m\u001b[1;33m(\u001b[0m\u001b[1;33m)\u001b[0m\u001b[1;33m\u001b[0m\u001b[1;33m\u001b[0m\u001b[0m\n\u001b[0m\u001b[0;32m     72\u001b[0m     \u001b[0mplot_obj\u001b[0m\u001b[1;33m.\u001b[0m\u001b[0mdraw\u001b[0m\u001b[1;33m(\u001b[0m\u001b[1;33m)\u001b[0m\u001b[1;33m\u001b[0m\u001b[1;33m\u001b[0m\u001b[0m\n\u001b[0;32m     73\u001b[0m     \u001b[1;32mreturn\u001b[0m \u001b[0mplot_obj\u001b[0m\u001b[1;33m.\u001b[0m\u001b[0mresult\u001b[0m\u001b[1;33m\u001b[0m\u001b[1;33m\u001b[0m\u001b[0m\n",
      "\u001b[1;32m~\\anaconda3\\lib\\site-packages\\pandas\\plotting\\_matplotlib\\core.py\u001b[0m in \u001b[0;36mgenerate\u001b[1;34m(self)\u001b[0m\n\u001b[0;32m    289\u001b[0m         \u001b[0mself\u001b[0m\u001b[1;33m.\u001b[0m\u001b[0m_add_table\u001b[0m\u001b[1;33m(\u001b[0m\u001b[1;33m)\u001b[0m\u001b[1;33m\u001b[0m\u001b[1;33m\u001b[0m\u001b[0m\n\u001b[0;32m    290\u001b[0m         \u001b[0mself\u001b[0m\u001b[1;33m.\u001b[0m\u001b[0m_make_legend\u001b[0m\u001b[1;33m(\u001b[0m\u001b[1;33m)\u001b[0m\u001b[1;33m\u001b[0m\u001b[1;33m\u001b[0m\u001b[0m\n\u001b[1;32m--> 291\u001b[1;33m         \u001b[0mself\u001b[0m\u001b[1;33m.\u001b[0m\u001b[0m_adorn_subplots\u001b[0m\u001b[1;33m(\u001b[0m\u001b[1;33m)\u001b[0m\u001b[1;33m\u001b[0m\u001b[1;33m\u001b[0m\u001b[0m\n\u001b[0m\u001b[0;32m    292\u001b[0m \u001b[1;33m\u001b[0m\u001b[0m\n\u001b[0;32m    293\u001b[0m         \u001b[1;32mfor\u001b[0m \u001b[0max\u001b[0m \u001b[1;32min\u001b[0m \u001b[0mself\u001b[0m\u001b[1;33m.\u001b[0m\u001b[0maxes\u001b[0m\u001b[1;33m:\u001b[0m\u001b[1;33m\u001b[0m\u001b[1;33m\u001b[0m\u001b[0m\n",
      "\u001b[1;32m~\\anaconda3\\lib\\site-packages\\pandas\\plotting\\_matplotlib\\core.py\u001b[0m in \u001b[0;36m_adorn_subplots\u001b[1;34m(self)\u001b[0m\n\u001b[0;32m    507\u001b[0m         \u001b[1;32mfor\u001b[0m \u001b[0max\u001b[0m \u001b[1;32min\u001b[0m \u001b[0mself\u001b[0m\u001b[1;33m.\u001b[0m\u001b[0maxes\u001b[0m\u001b[1;33m:\u001b[0m\u001b[1;33m\u001b[0m\u001b[1;33m\u001b[0m\u001b[0m\n\u001b[0;32m    508\u001b[0m             \u001b[1;32mif\u001b[0m \u001b[0mself\u001b[0m\u001b[1;33m.\u001b[0m\u001b[0myticks\u001b[0m \u001b[1;32mis\u001b[0m \u001b[1;32mnot\u001b[0m \u001b[1;32mNone\u001b[0m\u001b[1;33m:\u001b[0m\u001b[1;33m\u001b[0m\u001b[1;33m\u001b[0m\u001b[0m\n\u001b[1;32m--> 509\u001b[1;33m                 \u001b[0max\u001b[0m\u001b[1;33m.\u001b[0m\u001b[0mset_yticks\u001b[0m\u001b[1;33m(\u001b[0m\u001b[0mself\u001b[0m\u001b[1;33m.\u001b[0m\u001b[0myticks\u001b[0m\u001b[1;33m)\u001b[0m\u001b[1;33m\u001b[0m\u001b[1;33m\u001b[0m\u001b[0m\n\u001b[0m\u001b[0;32m    510\u001b[0m \u001b[1;33m\u001b[0m\u001b[0m\n\u001b[0;32m    511\u001b[0m             \u001b[1;32mif\u001b[0m \u001b[0mself\u001b[0m\u001b[1;33m.\u001b[0m\u001b[0mxticks\u001b[0m \u001b[1;32mis\u001b[0m \u001b[1;32mnot\u001b[0m \u001b[1;32mNone\u001b[0m\u001b[1;33m:\u001b[0m\u001b[1;33m\u001b[0m\u001b[1;33m\u001b[0m\u001b[0m\n",
      "\u001b[1;32m~\\anaconda3\\lib\\site-packages\\matplotlib\\axes\\_base.py\u001b[0m in \u001b[0;36mwrapper\u001b[1;34m(self, *args, **kwargs)\u001b[0m\n\u001b[0;32m     73\u001b[0m \u001b[1;33m\u001b[0m\u001b[0m\n\u001b[0;32m     74\u001b[0m         \u001b[1;32mdef\u001b[0m \u001b[0mwrapper\u001b[0m\u001b[1;33m(\u001b[0m\u001b[0mself\u001b[0m\u001b[1;33m,\u001b[0m \u001b[1;33m*\u001b[0m\u001b[0margs\u001b[0m\u001b[1;33m,\u001b[0m \u001b[1;33m**\u001b[0m\u001b[0mkwargs\u001b[0m\u001b[1;33m)\u001b[0m\u001b[1;33m:\u001b[0m\u001b[1;33m\u001b[0m\u001b[1;33m\u001b[0m\u001b[0m\n\u001b[1;32m---> 75\u001b[1;33m             \u001b[1;32mreturn\u001b[0m \u001b[0mget_method\u001b[0m\u001b[1;33m(\u001b[0m\u001b[0mself\u001b[0m\u001b[1;33m)\u001b[0m\u001b[1;33m(\u001b[0m\u001b[1;33m*\u001b[0m\u001b[0margs\u001b[0m\u001b[1;33m,\u001b[0m \u001b[1;33m**\u001b[0m\u001b[0mkwargs\u001b[0m\u001b[1;33m)\u001b[0m\u001b[1;33m\u001b[0m\u001b[1;33m\u001b[0m\u001b[0m\n\u001b[0m\u001b[0;32m     76\u001b[0m \u001b[1;33m\u001b[0m\u001b[0m\n\u001b[0;32m     77\u001b[0m         \u001b[0mwrapper\u001b[0m\u001b[1;33m.\u001b[0m\u001b[0m__module__\u001b[0m \u001b[1;33m=\u001b[0m \u001b[0mowner\u001b[0m\u001b[1;33m.\u001b[0m\u001b[0m__module__\u001b[0m\u001b[1;33m\u001b[0m\u001b[1;33m\u001b[0m\u001b[0m\n",
      "\u001b[1;32m~\\anaconda3\\lib\\site-packages\\matplotlib\\axis.py\u001b[0m in \u001b[0;36mset_ticks\u001b[1;34m(self, ticks, labels, minor, **kwargs)\u001b[0m\n\u001b[0;32m   1853\u001b[0m         \u001b[0mticks\u001b[0m\u001b[1;33m.\u001b[0m\u001b[1;33m\u001b[0m\u001b[1;33m\u001b[0m\u001b[0m\n\u001b[0;32m   1854\u001b[0m         \"\"\"\n\u001b[1;32m-> 1855\u001b[1;33m         \u001b[0mresult\u001b[0m \u001b[1;33m=\u001b[0m \u001b[0mself\u001b[0m\u001b[1;33m.\u001b[0m\u001b[0m_set_tick_locations\u001b[0m\u001b[1;33m(\u001b[0m\u001b[0mticks\u001b[0m\u001b[1;33m,\u001b[0m \u001b[0mminor\u001b[0m\u001b[1;33m=\u001b[0m\u001b[0mminor\u001b[0m\u001b[1;33m)\u001b[0m\u001b[1;33m\u001b[0m\u001b[1;33m\u001b[0m\u001b[0m\n\u001b[0m\u001b[0;32m   1856\u001b[0m         \u001b[1;32mif\u001b[0m \u001b[0mlabels\u001b[0m \u001b[1;32mis\u001b[0m \u001b[1;32mnot\u001b[0m \u001b[1;32mNone\u001b[0m\u001b[1;33m:\u001b[0m\u001b[1;33m\u001b[0m\u001b[1;33m\u001b[0m\u001b[0m\n\u001b[0;32m   1857\u001b[0m             \u001b[0mself\u001b[0m\u001b[1;33m.\u001b[0m\u001b[0mset_ticklabels\u001b[0m\u001b[1;33m(\u001b[0m\u001b[0mlabels\u001b[0m\u001b[1;33m,\u001b[0m \u001b[0mminor\u001b[0m\u001b[1;33m=\u001b[0m\u001b[0mminor\u001b[0m\u001b[1;33m,\u001b[0m \u001b[1;33m**\u001b[0m\u001b[0mkwargs\u001b[0m\u001b[1;33m)\u001b[0m\u001b[1;33m\u001b[0m\u001b[1;33m\u001b[0m\u001b[0m\n",
      "\u001b[1;32m~\\anaconda3\\lib\\site-packages\\matplotlib\\axis.py\u001b[0m in \u001b[0;36m_set_tick_locations\u001b[1;34m(self, ticks, minor)\u001b[0m\n\u001b[0;32m   1816\u001b[0m                 \u001b[0mxleft\u001b[0m\u001b[1;33m,\u001b[0m \u001b[0mxright\u001b[0m \u001b[1;33m=\u001b[0m \u001b[0maxis\u001b[0m\u001b[1;33m.\u001b[0m\u001b[0mget_view_interval\u001b[0m\u001b[1;33m(\u001b[0m\u001b[1;33m)\u001b[0m\u001b[1;33m\u001b[0m\u001b[1;33m\u001b[0m\u001b[0m\n\u001b[0;32m   1817\u001b[0m                 \u001b[1;32mif\u001b[0m \u001b[0mxright\u001b[0m \u001b[1;33m>\u001b[0m \u001b[0mxleft\u001b[0m\u001b[1;33m:\u001b[0m\u001b[1;33m\u001b[0m\u001b[1;33m\u001b[0m\u001b[0m\n\u001b[1;32m-> 1818\u001b[1;33m                     \u001b[0maxis\u001b[0m\u001b[1;33m.\u001b[0m\u001b[0mset_view_interval\u001b[0m\u001b[1;33m(\u001b[0m\u001b[0mmin\u001b[0m\u001b[1;33m(\u001b[0m\u001b[0mticks\u001b[0m\u001b[1;33m)\u001b[0m\u001b[1;33m,\u001b[0m \u001b[0mmax\u001b[0m\u001b[1;33m(\u001b[0m\u001b[0mticks\u001b[0m\u001b[1;33m)\u001b[0m\u001b[1;33m)\u001b[0m\u001b[1;33m\u001b[0m\u001b[1;33m\u001b[0m\u001b[0m\n\u001b[0m\u001b[0;32m   1819\u001b[0m                 \u001b[1;32melse\u001b[0m\u001b[1;33m:\u001b[0m\u001b[1;33m\u001b[0m\u001b[1;33m\u001b[0m\u001b[0m\n\u001b[0;32m   1820\u001b[0m                     \u001b[0maxis\u001b[0m\u001b[1;33m.\u001b[0m\u001b[0mset_view_interval\u001b[0m\u001b[1;33m(\u001b[0m\u001b[0mmax\u001b[0m\u001b[1;33m(\u001b[0m\u001b[0mticks\u001b[0m\u001b[1;33m)\u001b[0m\u001b[1;33m,\u001b[0m \u001b[0mmin\u001b[0m\u001b[1;33m(\u001b[0m\u001b[0mticks\u001b[0m\u001b[1;33m)\u001b[0m\u001b[1;33m)\u001b[0m\u001b[1;33m\u001b[0m\u001b[1;33m\u001b[0m\u001b[0m\n",
      "\u001b[1;31mTypeError\u001b[0m: '<' not supported between instances of 'str' and 'int'"
     ]
    },
    {
     "data": {
      "image/png": "[encoded data removed]",
      "text/plain": [
       "<Figure size 720x720 with 1 Axes>"
      ]
     },
     "metadata": {
      "needs_background": "light"
     },
     "output_type": "display_data"
    },
    {
     "data": {
      "image/png": "[encoded data removed]",
      "text/plain": [
       "<Figure size 720x720 with 1 Axes>"
      ]
     },
     "metadata": {
      "needs_background": "light"
     },
     "output_type": "display_data"
    }
   ],
   "source": [
    "\n",
    "\n",
    "graph1_df=df[['Margin','quarter']]\n",
    "graph2_df=df[['Margin','quarter','PayerType']]\n",
    "graph1_df.groupby(['quarter']).sum().plot.bar(\n",
    "                                     title=\"Quarterly Profit and Loss\",figsize=(10,10)\n",
    "                                   \n",
    "                             \n",
    "                                    );\n",
    "\n",
    "graph_3=graph2_df.groupby(['quarter','PayerType']).sum()\n",
    "graph_3=graph_3.reset_index()\n",
    "\n",
    "#graph_3=graph_3.set_index(['quarter'])\n",
    "graph4=pandas.pivot_table(graph_3,index=['quarter'],columns=['PayerType'])\n",
    "graph4.plot.bar(\n",
    "                                     title=\"Quarterly Profit and Loss by Payer Type\",figsize=(10,10),\n",
    "                                   color=['red','green','blue','yellow'],\n",
    "    yticks=[0,'$1500']\n",
    "                             \n",
    "                                    );"
   ]
  },
  {
   "cell_type": "markdown",
   "metadata": {},
   "source": [
    "Interested in learning more? Send an email to [Michaeljfriend1@gmail.com](mailto:michaeljfriend1@gmail.com)  \n",
    "Check out other [writings](https://healthcarestrat.substack.com/)  \n",
    "Connect with me on [LinkedIn](https://www.linkedin.com/in/friendm/)"
   ]
  },
  {
   "cell_type": "markdown",
   "metadata": {},
   "source": []
  },
  {
   "cell_type": "markdown",
   "metadata": {},
   "source": []
  },
  {
   "cell_type": "code",
   "execution_count": null,
   "metadata": {},
   "outputs": [],
   "source": []
  }
 ],
 "metadata": {
  "kernelspec": {
   "display_name": "Python 3",
   "language": "python",
   "name": "python3"
  },
  "language_info": {
   "codemirror_mode": {
    "name": "ipython",
    "version": 3
   },
   "file_extension": ".py",
   "mimetype": "text/x-python",
   "name": "python",
   "nbconvert_exporter": "python",
   "pygments_lexer": "ipython3",
   "version": "3.7.6"
  }
 },
 "nbformat": 4,
 "nbformat_minor": 4
}
